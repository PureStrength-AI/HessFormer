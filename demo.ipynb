{
 "cells": [
  {
   "cell_type": "markdown",
   "id": "a3afd3af",
   "metadata": {},
   "source": [
    "# Lanczos Spectrum demo\n",
    "Minimal example on a tiny slice of WikiText-2."
   ]
  },
  {
   "cell_type": "code",
   "execution_count": 2,
   "id": "8e2ab884",
   "metadata": {},
   "outputs": [],
   "source": [
    "import torch, matplotlib.pyplot as plt, numpy as np\n",
    "from transformers import AutoModelForCausalLM\n",
    "from datasets import load_dataset\n",
    "from hessformer import run_lanczos, HvpMode"
   ]
  },
  {
   "cell_type": "code",
   "execution_count": 3,
   "id": "29ba97aa",
   "metadata": {},
   "outputs": [
    {
     "name": "stderr",
     "output_type": "stream",
     "text": [
      "Sliding Window Attention is enabled but not implemented for `sdpa`; unexpected results may be encountered.\n"
     ]
    }
   ],
   "source": [
    "model_name = \"deepseek-ai/DeepSeek-R1-Distill-Qwen-1.5B\"\n",
    "model = AutoModelForCausalLM.from_pretrained(model_name,\n",
    "    torch_dtype=torch.bfloat16, device_map=\"auto\").eval()"
   ]
  },
  {
   "cell_type": "code",
   "execution_count": 4,
   "id": "37bf5c73",
   "metadata": {},
   "outputs": [],
   "source": [
    "ds = load_dataset(\"wikitext\", \"wikitext-2-raw-v1\", split=\"train[:1%]\")\n"
   ]
  },
  {
   "cell_type": "code",
   "execution_count": null,
   "id": "52a1d70b",
   "metadata": {},
   "outputs": [
    {
     "name": "stderr",
     "output_type": "stream",
     "text": [
      "HVP computation: 100%|████████████████████████████████████████████████████████████████████████████████████████████████████████████████████████████████████████████████| 184/184 [01:14<00:00,  2.48it/s]\n",
      "HVP computation: 100%|████████████████████████████████████████████████████████████████████████████████████████████████████████████████████████████████████████████████| 184/184 [01:16<00:00,  2.42it/s]\n",
      "HVP computation:   7%|██████████▏                                                                                                                                      | 13/184 [00:05<01:12,  2.37it/s]"
     ]
    }
   ],
   "source": [
    "out = run_lanczos(model, ds, num_iter=10,\n",
    "                  hvp_mode=HvpMode.REV_FWD,\n",
    "                  batch_size=2)"
   ]
  },
  {
   "cell_type": "code",
   "execution_count": null,
   "id": "2a929bca",
   "metadata": {},
   "outputs": [],
   "source": [
    "eigvals = out[\"spec\"][\"eigvals\"].cpu()\n",
    "gammas  = out[\"spec\"][\"gammas\"].cpu()\n",
    "\n",
    "plt.stem(eigvals, gammas, basefmt=\" \")\n",
    "plt.yscale(\"log\")\n",
    "plt.xlabel(\"Eigenvalue λ\")\n",
    "plt.ylabel(\"γ₀² (log)\")\n",
    "plt.title(\"Approx. Hessian spectrum\")\n",
    "plt.show()"
   ]
  },
  {
   "cell_type": "markdown",
   "id": "ee70503f",
   "metadata": {},
   "source": [
    "You can also build a global histogram of the Lanczos-estimated eigen‐density."
   ]
  },
  {
   "cell_type": "code",
   "execution_count": null,
   "id": "4e2662d3",
   "metadata": {},
   "outputs": [],
   "source": [
    "hist, bins = np.histogram(eigvals.numpy(), bins=50, weights=gammas.numpy())\n",
    "plt.bar(bins[:-1], hist, width=bins[1]-bins[0])\n",
    "plt.yscale('log')\n",
    "plt.xlabel('λ')\n",
    "plt.ylabel('density (log)')\n",
    "plt.title('Lanczos density estimate')"
   ]
  }
 ],
 "metadata": {
  "kernelspec": {
   "display_name": "Python 3 (ipykernel)",
   "language": "python",
   "name": "python3"
  },
  "language_info": {
   "codemirror_mode": {
    "name": "ipython",
    "version": 3
   },
   "file_extension": ".py",
   "mimetype": "text/x-python",
   "name": "python",
   "nbconvert_exporter": "python",
   "pygments_lexer": "ipython3",
   "version": "3.10.12"
  }
 },
 "nbformat": 4,
 "nbformat_minor": 5
}
